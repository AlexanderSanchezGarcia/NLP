{
 "cells": [
  {
   "cell_type": "code",
   "execution_count": 1,
   "id": "07fda5a0",
   "metadata": {},
   "outputs": [],
   "source": [
    "import time\n",
    "import tracemalloc\n",
    "class WordTokenizer:\n",
    "    delimiter = \"\"\n",
    "    \n",
    "    def __init__(self):\n",
    "        self.delimiter = \" \\t\\n\\r\\f\\v\" + \"!\\\"#$%&'()*+,-./:;<=>?@[\\\\]^_`{|}\"\n",
    "\n",
    "    def verify_word(self, text:str) -> str:\n",
    "        numbers = \"0123456789\"\n",
    "        is_only_number = True\n",
    "        word = \"\"\n",
    "        for char in text:\n",
    "            if char not in numbers:\n",
    "                is_only_number = False\n",
    "                break \n",
    "\n",
    "        if is_only_number:\n",
    "            word = text\n",
    "        else:\n",
    "            for char in text:\n",
    "                if char not in numbers:\n",
    "                    word += char\n",
    "        return word\n",
    "    \n",
    "    def tokenize(self, text: str) -> list:\n",
    "        t_init = time.time()\n",
    "        tracemalloc.start()\n",
    "        \n",
    "        token = []\n",
    "        n = len(text)\n",
    "        \n",
    "        i = 0\n",
    "        j = i\n",
    "        \n",
    "        while i <= n - 1:\n",
    "            if (text[i] in self.delimiter) and (text[j] in self.delimiter):\n",
    "                j += 1\n",
    "            elif (text[i] in self.delimiter):\n",
    "                word_verified = self.verify_word(text[j:i])\n",
    "                token.append(word_verified)\n",
    "                j = i + 1\n",
    "            i += 1\n",
    "        \n",
    "        print(\"Time:\", time.time() - t_init)\n",
    "        print(\"Memory:\", tracemalloc.get_traced_memory())\n",
    "        tracemalloc.stop()\n",
    "        \n",
    "        return token"
   ]
  },
  {
   "cell_type": "code",
   "execution_count": 2,
   "id": "c5552d76",
   "metadata": {},
   "outputs": [
    {
     "name": "stdout",
     "output_type": "stream",
     "text": [
      "Time: 0.00010967254638671875\n",
      "Memory: (1127, 1369)\n",
      "['Hoy', 'hay', 'clase', 'de', 'PNL', 'Hay', 'junta', 'a', 'las', '1945', 'o', 'holavcghv', 'gcv', 'Tienen', 'tarea', 'á', 'ñ']\n"
     ]
    }
   ],
   "source": [
    "word = \" Hoy hay clase123 de PNL. Hay jun23ta a las 1945. o   holavcghv.   gcv  Tienen tarea á ñ \"\n",
    "\n",
    "tokenizer = WordTokenizer()\n",
    "print(tokenizer.tokenize(word))"
   ]
  }
 ],
 "metadata": {
  "kernelspec": {
   "display_name": "base",
   "language": "python",
   "name": "python3"
  },
  "language_info": {
   "codemirror_mode": {
    "name": "ipython",
    "version": 3
   },
   "file_extension": ".py",
   "mimetype": "text/x-python",
   "name": "python",
   "nbconvert_exporter": "python",
   "pygments_lexer": "ipython3",
   "version": "3.12.7"
  }
 },
 "nbformat": 4,
 "nbformat_minor": 5
}
