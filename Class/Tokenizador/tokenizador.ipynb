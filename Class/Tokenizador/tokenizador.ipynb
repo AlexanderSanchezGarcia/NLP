{
 "cells": [
  {
   "cell_type": "code",
   "execution_count": 2,
   "id": "25f5e722",
   "metadata": {},
   "outputs": [
    {
     "name": "stdout",
     "output_type": "stream",
     "text": [
      "Memoria actual: 0.000633MB; Memoria pico: 0.000761MB\n",
      "Tiempo de ejecucion: 6.604194641113281e-05 segundos\n",
      "['Hola', 'mi', 'nombre', 'es', 'Marco', 'Van', 'a', 'reprobar', 'PNL', 'Estudien', 'estusiastamente']\n"
     ]
    }
   ],
   "source": [
    "## Tokenizador V1\n",
    "import string\n",
    "\n",
    "import time\n",
    "import tracemalloc\n",
    "\n",
    "## Texto es una variable de tipo string\n",
    "def tokenizador(texto):\n",
    "    t_ini = time.time()\n",
    "    tracemalloc.start()\n",
    "    \n",
    "    delimitadores = string.whitespace + string.punctuation\n",
    "    token = \"\"\n",
    "    tokens = []\n",
    "    ## Si la última posicion del texto es algun delimitador\n",
    "    if texto[-1] == delimitadores:\n",
    "        texto = texto + '.'\n",
    "        \n",
    "    for i in range(len(texto)):\n",
    "        if(texto[i] == ' ' or texto[i] == '.'):\n",
    "            tokens = tokens + [token]\n",
    "            token = \"\"\n",
    "        else:\n",
    "            token = token + texto[i]\n",
    "            \n",
    "    t_fin = time.time()\n",
    "    actual, pico = tracemalloc.get_traced_memory()\n",
    "    tracemalloc.stop()\n",
    "    print(f\"Memoria actual: {actual / 10**6}MB; Memoria pico: {pico / 10**6}MB\")\n",
    "    print(f\"Tiempo de ejecucion: {t_fin - t_ini} segundos\")\n",
    "    return tokens\n",
    "\n",
    "\n",
    "texto = 'Hola mi nombre es Marco.Van a reprobar PNL.Estudien estusiastamente.'\n",
    "print(tokenizador(texto))"
   ]
  },
  {
   "cell_type": "code",
   "execution_count": 1,
   "id": "71b6cd85",
   "metadata": {},
   "outputs": [
    {
     "name": "stdout",
     "output_type": "stream",
     "text": [
      "['Hola', 'mi', 'nombre', 'es', 'Marco', 'Van', 'a', 'reprobar', 'PNL', 'Estudien', 'estusiastamente', '']\n"
     ]
    }
   ],
   "source": [
    "## Texto es una variable de tipo string\n",
    "def tokenizador(texto):\n",
    "    token = \"\"\n",
    "    tokens = []\n",
    "    ## Si la última posicion del texto es algun delimitador\n",
    "    if texto[-1] == \" \" or texto[-1] == \".\" or texto[-1] == \"!\":\n",
    "        texto = texto + '.'\n",
    "        \n",
    "    for i in range(len(texto)):\n",
    "        if(texto[i] == ' ' or texto[i] == '.'):\n",
    "            tokens = tokens + [token]\n",
    "            token = \"\"\n",
    "        else:\n",
    "            token = token + texto[i]\n",
    "    return tokens\n",
    "\n",
    "\n",
    "texto = 'Hola mi nombre es Marco.Van a reprobar PNL.Estudien estusiastamente.'\n",
    "print(tokenizador(texto))"
   ]
  }
 ],
 "metadata": {
  "kernelspec": {
   "display_name": "base",
   "language": "python",
   "name": "python3"
  },
  "language_info": {
   "codemirror_mode": {
    "name": "ipython",
    "version": 3
   },
   "file_extension": ".py",
   "mimetype": "text/x-python",
   "name": "python",
   "nbconvert_exporter": "python",
   "pygments_lexer": "ipython3",
   "version": "3.12.7"
  }
 },
 "nbformat": 4,
 "nbformat_minor": 5
}
