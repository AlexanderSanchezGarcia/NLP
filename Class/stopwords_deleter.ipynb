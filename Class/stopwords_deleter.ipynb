{
  "nbformat": 4,
  "nbformat_minor": 0,
  "metadata": {
    "colab": {
      "provenance": [],
      "authorship_tag": "ABX9TyNo0Qiw7XKPmqAJplYVoRL5"
    },
    "kernelspec": {
      "name": "python3",
      "display_name": "Python 3"
    },
    "language_info": {
      "name": "python"
    }
  },
  "cells": [
    {
      "cell_type": "code",
      "execution_count": null,
      "metadata": {
        "id": "KvCvrzv4wD52"
      },
      "outputs": [],
      "source": [
        "#Omitir stop words en un texto\n",
        "\n",
        "def eliminador_stopwords (texto):\n",
        "  stop_words = ['el', 'la', 'de', 'del', 'en', 'un', 'unos', 'una', 'unas', 'los', 'las', 'y', 'eso', 'los']\n",
        "  token = \"\"\n",
        "  tokens = [None]*len(texto)\n",
        "  contador = 0\n",
        "  ##Si la posición del texto es algún delimitador\n",
        "  if (ord(texto[-1])>=65 and ord(texto[-1])<=90) or (ord(texto[-1])>=97 and ord(texto[-1])<=122):\n",
        "    texto = texto + '.'\n",
        "  for letra in texto:\n",
        "    if (ord(letra)>=65 and ord(letra)<=90) or (ord(letra)>=97 and ord(letra)<=122):\n",
        "      token += letra\n",
        "    elif token == \"\":\n",
        "      continue\n",
        "    else:\n",
        "      if token not in stop_words:\n",
        "        tokens[contador] = token\n",
        "        contador += 1\n",
        "      token = \"\"\n",
        "  return tokens[0:contador]\n",
        "\n",
        "texto = \"Marco un Antonio Solis Castillo.Hola mundo!Procesamiento de lenguaje natural\"\n",
        "salida = eliminador_stopwords(texto)\n",
        "print(salida)\n",
        "\n"
      ]
    }
  ]
}