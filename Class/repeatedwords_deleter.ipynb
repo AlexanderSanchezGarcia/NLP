{
  "nbformat": 4,
  "nbformat_minor": 0,
  "metadata": {
    "colab": {
      "provenance": [],
      "authorship_tag": "ABX9TyO7sWSmA5WfV0LOz5B721Kq"
    },
    "kernelspec": {
      "name": "python3",
      "display_name": "Python 3"
    },
    "language_info": {
      "name": "python"
    }
  },
  "cells": [
    {
      "cell_type": "code",
      "execution_count": null,
      "metadata": {
        "id": "Y1IoU6Gj5Wm7"
      },
      "outputs": [],
      "source": [
        "#Eliminador de palabras repetidas versión 1 - verificar tiempo de consumo\n",
        "\n",
        "def eliminar_palabras_repetidas(vector):\n",
        "  vectorAUX = [vector[0]]\n",
        "  for palabra in vector:\n",
        "    if palabra not in vectorAUX:\n",
        "      vectorAUX == [palabra]\n",
        "  return vectorAUX\n",
        "\n",
        "print(eliminar_palabras_repetidas)\n",
        "\n"
      ]
    }
  ]
}