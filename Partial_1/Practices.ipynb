{
 "cells": [
  {
   "cell_type": "markdown",
   "id": "d9e6ae74",
   "metadata": {},
   "source": [
    "## **Practices** - *1° Partial*\n",
    "* September 30°, 2025\n",
    "#### ESCOM - IPN: *Natural Language Processing*\n",
    "#### Prof. Marco Antonio\n",
    "\n",
    "#### *B.S. in Data Science* - 6AV1\n",
    "> Sánchez García Miguel Alexander"
   ]
  },
  {
   "cell_type": "markdown",
   "id": "cc558742",
   "metadata": {},
   "source": [
    "#### **1° Practice - Tokenization**"
   ]
  },
  {
   "cell_type": "code",
   "execution_count": 54,
   "id": "07fda5a0",
   "metadata": {},
   "outputs": [],
   "source": [
    "import time\n",
    "import tracemalloc\n",
    "\n",
    "class Tokenizer:\n",
    "    \"\"\" Class for tokenizing text \"\"\"\n",
    "    delimiter = \"\"\n",
    "    \n",
    "    \"\"\" Constructor \"\"\"\n",
    "    def __init__(self):\n",
    "        self.delimiter = \" \\t\\n\\r\\f\\v\" + \"!\\\"#$%&'()*+,-./:;<=>?@[\\\\]^_`{|}\"\n",
    "\n",
    "    \"\"\" Methods \"\"\"\n",
    "    # Verifies if the word is only numbers or alphanumeric\n",
    "    def verify_word(self, text:str) -> str:\n",
    "        numbers = \"0123456789\"\n",
    "        is_only_number = True\n",
    "        word = \"\"\n",
    "        for char in text:\n",
    "            if char not in numbers:\n",
    "                is_only_number = False\n",
    "                break \n",
    "\n",
    "        if is_only_number:\n",
    "            word = text\n",
    "        else:\n",
    "            # Keep alphabetic characters, remove only numbers from mixed words\n",
    "            for char in text:\n",
    "                if char.isalpha():  # Keep letters\n",
    "                    word += char\n",
    "        return word\n",
    "    \n",
    "    # Converts all characters in the token to lowercase\n",
    "    def to_lowercase(self, token:list) -> list:\n",
    "        for i in range(len(token)):\n",
    "            for c in token[i]:\n",
    "                if (c >= 'A') and (c <= 'Z'):\n",
    "                    token[i] = token[i].replace(c, chr(ord(c) + 32))\n",
    "        return token\n",
    "    \n",
    "    # Delete stopwords from the token\n",
    "    def remove_stopwords(self, token:list) -> list:\n",
    "        stopwords = ['the', 'of', 'in', 'on', 'a', 'an', 'some', 'and', 'that', 'this']\n",
    "        return [word for word in token if word not in stopwords]\n",
    "        \n",
    "        \n",
    "    # Tokenizes the input text\n",
    "    def tokenize(self, text: str) -> list:              \n",
    "        t_init = time.time()\n",
    "        tracemalloc.start()\n",
    "        \n",
    "        token = []\n",
    "        n = len(text)\n",
    "        \n",
    "        i = 0\n",
    "        j = i\n",
    "        \n",
    "        while i <= n - 1:\n",
    "            if (text[i] in self.delimiter) and (text[j] in self.delimiter):\n",
    "                j += 1\n",
    "            elif (text[i] in self.delimiter):\n",
    "                word_verified = self.verify_word(text[j:i])\n",
    "                if word_verified:  # Only add non-empty words\n",
    "                    token.append(word_verified)\n",
    "                j = i + 1\n",
    "            i += 1\n",
    "\n",
    "        # Handle the last word if the text doesn't end with a delimiter\n",
    "        if j < n:\n",
    "            word_verified = self.verify_word(text[j:n])\n",
    "            if word_verified:\n",
    "                token.append(word_verified)\n",
    "\n",
    "        token = self.to_lowercase(token)\n",
    "        \n",
    "        token = self.remove_stopwords(token)\n",
    "\n",
    "        # print(\"Time:\", time.time() - t_init)\n",
    "        # print(\"Memory:\", tracemalloc.get_traced_memory())\n",
    "        tracemalloc.stop()\n",
    "        \n",
    "        return token"
   ]
  },
  {
   "cell_type": "code",
   "execution_count": 51,
   "id": "c5552d76",
   "metadata": {},
   "outputs": [
    {
     "name": "stdout",
     "output_type": "stream",
     "text": [
      "['hoy', 'hay', 'clase', 'de', 'pnl', 'hay', 'junta', 'a', 'las', '1945', 'o', 'holavcghv', 'gcv', 'tienen', 'tarea', 'á', 'ñ']\n"
     ]
    }
   ],
   "source": [
    "word = \" Hoy hay clase123 de PNL. Hay jun23ta a las 1945. o   holavcghv.   gcv  Tienen tarea á ñ \"\n",
    "\n",
    "tokenizer = Tokenizer()\n",
    "print(tokenizer.tokenize(word))"
   ]
  },
  {
   "cell_type": "markdown",
   "id": "33e51608",
   "metadata": {},
   "source": [
    "#### **2° TF-IDF Matrix**"
   ]
  },
  {
   "cell_type": "markdown",
   "id": "b3d2bf76",
   "metadata": {},
   "source": [
    "**a.** Creation of documents"
   ]
  },
  {
   "cell_type": "code",
   "execution_count": 13,
   "id": "7e1043e9",
   "metadata": {},
   "outputs": [
    {
     "name": "stdout",
     "output_type": "stream",
     "text": [
      "Document 1 word count: 192\n",
      "Document 2 word count: 201\n",
      "Document 3 word count: 227\n",
      "\n",
      "Documents created successfully!\n"
     ]
    }
   ],
   "source": [
    "# Three documents about SpongeBob's love for his job at the Krusty Krab\n",
    "\n",
    "document1 = \"\"\"\n",
    "SpongeBob SquarePants has an unparalleled passion for his work at the Krusty Krab that stems from his genuine love of cooking and serving others. Every morning, he wakes up with boundless enthusiasm, eager to flip patties and create the perfect Krabby Patty for every customer who walks through the doors. His dedication goes beyond mere employment; it represents his life's calling and purpose. The grill becomes his canvas, and each burger is a masterpiece crafted with care, precision, and an infectious joy that radiates throughout the restaurant. SpongeBob finds deep satisfaction in the sizzle of the grill, the smell of fresh ingredients, and the smiles on customers' faces when they taste his culinary creations. His work ethic is legendary in Bikini Bottom, often staying late to perfect recipes or arriving early to ensure everything is spotless and ready for another day of service. The Krusty Krab isn't just a workplace for SpongeBob; it's where his dreams come alive, where his talents shine brightest, and where he can make a positive difference in the lives of everyone around him through the simple yet profound act of preparing delicious food with love and dedication.\n",
    "\"\"\"\n",
    "\n",
    "document2 = \"\"\"\n",
    "The camaraderie and relationships SpongeBob has built at the Krusty Krab are fundamental to why he cherishes his position as the restaurant's fry cook. Working alongside his best friend and neighbor Squidward, despite their contrasting personalities, provides SpongeBob with daily opportunities for friendship and shared experiences. His deep respect and admiration for Mr. Krabs, whom he views as both a mentor and father figure, motivates him to exceed expectations and contribute to the restaurant's success. SpongeBob thrives in the collaborative environment where each team member plays a vital role in creating memorable dining experiences for their customers. The fast-paced nature of the kitchen energizes him, and he finds joy in the choreographed dance of food preparation during busy lunch rushes. His infectious optimism and unwavering commitment to excellence inspire others around him, creating a positive work atmosphere that extends beyond the kitchen walls. SpongeBob genuinely cares about each customer's satisfaction, often going above and beyond to ensure their visit to the Krusty Krab is exceptional. This personal investment in customer happiness and the success of the business makes every workday feel meaningful and rewarding, reinforcing his belief that he has found his true calling in the culinary world of Bikini Bottom.\n",
    "\"\"\"\n",
    "\n",
    "document3 = \"\"\"\n",
    "SpongeBob's love for his job at the Krusty Krab is deeply rooted in his appreciation for the craft of cooking and his desire to bring happiness to others through food. He approaches each Krabby Patty with the precision of an artist and the heart of someone who understands that a great meal can brighten someone's entire day. The technical aspects of grilling fascinate him – from achieving the perfect temperature to timing each flip with mathematical precision. His knowledge of ingredients, cooking techniques, and food safety demonstrates a professional commitment that goes far beyond what most would expect from a fry cook position. SpongeBob takes immense pride in maintaining the Krusty Krab's reputation as Bikini Bottom's premier dining establishment, understanding that his individual contribution directly impacts the restaurant's legacy and success. The creative challenges of menu development and seasonal specials excite him, providing opportunities to innovate while respecting the time-honored traditions that make the Krabby Patty special. His job allows him to combine his natural talents with his generous spirit, creating an environment where work doesn't feel like work but rather like a daily celebration of food, friendship, and community service. This perfect alignment of personal values, professional skills, and workplace culture explains why SpongeBob approaches each day at the Krusty Krab with unwavering enthusiasm and genuine gratitude for the opportunity to do what he loves most.\n",
    "\"\"\"\n",
    "\n",
    "print(\"Document 1 word count:\", len(document1.split()))\n",
    "print(\"Document 2 word count:\", len(document2.split())) \n",
    "print(\"Document 3 word count:\", len(document3.split()))\n",
    "print(\"\\nDocuments created successfully!\")"
   ]
  },
  {
   "cell_type": "markdown",
   "id": "639b1cbb",
   "metadata": {},
   "source": [
    "**b.** Creation of the TF-IDF matrix"
   ]
  },
  {
   "cell_type": "code",
   "execution_count": 55,
   "id": "7fd2320d",
   "metadata": {},
   "outputs": [],
   "source": [
    "import pandas as pd\n",
    "from math import log\n",
    "\n",
    "class TF_IDF(Tokenizer):\n",
    "    \"\"\" Class for creating the TF-IDF matrix \"\"\"\n",
    "    \n",
    "    \"\"\" Constructor \"\"\"\n",
    "    def __init__(self, docs:list):\n",
    "        # Initialize the parent Tokenizer class\n",
    "        super().__init__() \n",
    "        \n",
    "        self.documents = docs\n",
    "        self.tokens = []\n",
    "        self.vocabulary = set()\n",
    "        \n",
    "        # Tokenize each document and build vocabulary\n",
    "        for doc in self.documents:\n",
    "            doc_tokens = self.tokenize(doc)\n",
    "            self.tokens.append(doc_tokens)\n",
    "            self.vocabulary.update(doc_tokens)\n",
    "\n",
    "        # Convert vocabulary to sorted list for consistent column order\n",
    "        self.vocabulary = sorted(list(self.vocabulary))\n",
    "\n",
    "    \"\"\" Methods \"\"\"\n",
    "    # Compute term frequency for a given token list\n",
    "    def compute_tf(self, token_list: list) -> pd.Series:\n",
    "        # Create a Series with vocabulary as index, initialized to 0\n",
    "        tf = pd.Series(0, index=self.vocabulary)\n",
    "        \n",
    "        # Count occurrences of each word\n",
    "        for word in token_list:\n",
    "            if word in tf.index:\n",
    "                tf[word] += 1\n",
    "        \n",
    "        return tf\n",
    "    \n",
    "    # Compute inverse document frequency for the entire corpus\n",
    "    def compute_idf(self) -> pd.Series:\n",
    "        N = len(self.documents)\n",
    "        idf = pd.Series(0.0, index=self.vocabulary)\n",
    "        \n",
    "        for word in self.vocabulary:\n",
    "            # Count how many documents contain this word\n",
    "            doc_count = sum(1 for doc_tokens in self.tokens if word in doc_tokens)\n",
    "            # Calculate IDF using the smoothed formula: log(N / (1 + doc_count))\n",
    "            idf[word] = log(N / (1 + doc_count))\n",
    "        \n",
    "        return idf\n",
    "\n",
    "    # Compute the TF-IDF matrix\n",
    "    def compute_tf_idf(self):\n",
    "        # Compute TF for each document\n",
    "        tf_matrix = []\n",
    "        for i, doc_tokens in enumerate(self.tokens):\n",
    "            tf_series = self.compute_tf(doc_tokens)\n",
    "            tf_matrix.append(tf_series)\n",
    "        \n",
    "        # Create TF DataFrame\n",
    "        tf_df = pd.DataFrame(tf_matrix, index=[f\"Doc_{i+1}\" for i in range(len(self.documents))])\n",
    "        \n",
    "        # Compute IDF\n",
    "        idf_series = self.compute_idf()\n",
    "        \n",
    "        # Compute TF-IDF by multiplying TF matrix with IDF vector\n",
    "        tf_idf_matrix = tf_df.multiply(idf_series, axis=1)\n",
    "        \n",
    "        return tf_idf_matrix"
   ]
  },
  {
   "cell_type": "code",
   "execution_count": 57,
   "id": "1c9b6152",
   "metadata": {},
   "outputs": [
    {
     "name": "stdout",
     "output_type": "stream",
     "text": [
      "Vocabulary size: 300\n",
      "Number of documents: 3\n"
     ]
    },
    {
     "data": {
      "application/vnd.microsoft.datawrangler.viewer.v0+json": {
       "columns": [
        {
         "name": "index",
         "rawType": "object",
         "type": "string"
        },
        {
         "name": "about",
         "rawType": "float64",
         "type": "float"
        },
        {
         "name": "above",
         "rawType": "float64",
         "type": "float"
        },
        {
         "name": "achieving",
         "rawType": "float64",
         "type": "float"
        },
        {
         "name": "act",
         "rawType": "float64",
         "type": "float"
        },
        {
         "name": "admiration",
         "rawType": "float64",
         "type": "float"
        },
        {
         "name": "alignment",
         "rawType": "float64",
         "type": "float"
        },
        {
         "name": "alive",
         "rawType": "float64",
         "type": "float"
        },
        {
         "name": "allows",
         "rawType": "float64",
         "type": "float"
        },
        {
         "name": "alongside",
         "rawType": "float64",
         "type": "float"
        },
        {
         "name": "another",
         "rawType": "float64",
         "type": "float"
        },
        {
         "name": "appreciation",
         "rawType": "float64",
         "type": "float"
        },
        {
         "name": "approaches",
         "rawType": "float64",
         "type": "float"
        },
        {
         "name": "are",
         "rawType": "float64",
         "type": "float"
        },
        {
         "name": "around",
         "rawType": "float64",
         "type": "float"
        },
        {
         "name": "arriving",
         "rawType": "float64",
         "type": "float"
        },
        {
         "name": "artist",
         "rawType": "float64",
         "type": "float"
        },
        {
         "name": "as",
         "rawType": "float64",
         "type": "float"
        },
        {
         "name": "aspects",
         "rawType": "float64",
         "type": "float"
        },
        {
         "name": "at",
         "rawType": "float64",
         "type": "float"
        },
        {
         "name": "atmosphere",
         "rawType": "float64",
         "type": "float"
        },
        {
         "name": "becomes",
         "rawType": "float64",
         "type": "float"
        },
        {
         "name": "belief",
         "rawType": "float64",
         "type": "float"
        },
        {
         "name": "best",
         "rawType": "float64",
         "type": "float"
        },
        {
         "name": "beyond",
         "rawType": "float64",
         "type": "float"
        },
        {
         "name": "bikini",
         "rawType": "float64",
         "type": "float"
        },
        {
         "name": "both",
         "rawType": "float64",
         "type": "float"
        },
        {
         "name": "bottom",
         "rawType": "float64",
         "type": "float"
        },
        {
         "name": "boundless",
         "rawType": "float64",
         "type": "float"
        },
        {
         "name": "brighten",
         "rawType": "float64",
         "type": "float"
        },
        {
         "name": "brightest",
         "rawType": "float64",
         "type": "float"
        },
        {
         "name": "bring",
         "rawType": "float64",
         "type": "float"
        },
        {
         "name": "built",
         "rawType": "float64",
         "type": "float"
        },
        {
         "name": "burger",
         "rawType": "float64",
         "type": "float"
        },
        {
         "name": "business",
         "rawType": "float64",
         "type": "float"
        },
        {
         "name": "busy",
         "rawType": "float64",
         "type": "float"
        },
        {
         "name": "but",
         "rawType": "float64",
         "type": "float"
        },
        {
         "name": "calling",
         "rawType": "float64",
         "type": "float"
        },
        {
         "name": "camaraderie",
         "rawType": "float64",
         "type": "float"
        },
        {
         "name": "can",
         "rawType": "float64",
         "type": "float"
        },
        {
         "name": "canvas",
         "rawType": "float64",
         "type": "float"
        },
        {
         "name": "care",
         "rawType": "float64",
         "type": "float"
        },
        {
         "name": "cares",
         "rawType": "float64",
         "type": "float"
        },
        {
         "name": "celebration",
         "rawType": "float64",
         "type": "float"
        },
        {
         "name": "challenges",
         "rawType": "float64",
         "type": "float"
        },
        {
         "name": "cherishes",
         "rawType": "float64",
         "type": "float"
        },
        {
         "name": "choreographed",
         "rawType": "float64",
         "type": "float"
        },
        {
         "name": "collaborative",
         "rawType": "float64",
         "type": "float"
        },
        {
         "name": "combine",
         "rawType": "float64",
         "type": "float"
        },
        {
         "name": "come",
         "rawType": "float64",
         "type": "float"
        },
        {
         "name": "commitment",
         "rawType": "float64",
         "type": "float"
        },
        {
         "name": "community",
         "rawType": "float64",
         "type": "float"
        },
        {
         "name": "contrasting",
         "rawType": "float64",
         "type": "float"
        },
        {
         "name": "contribute",
         "rawType": "float64",
         "type": "float"
        },
        {
         "name": "contribution",
         "rawType": "float64",
         "type": "float"
        },
        {
         "name": "cook",
         "rawType": "float64",
         "type": "float"
        },
        {
         "name": "cooking",
         "rawType": "float64",
         "type": "float"
        },
        {
         "name": "craft",
         "rawType": "float64",
         "type": "float"
        },
        {
         "name": "crafted",
         "rawType": "float64",
         "type": "float"
        },
        {
         "name": "create",
         "rawType": "float64",
         "type": "float"
        },
        {
         "name": "creating",
         "rawType": "float64",
         "type": "float"
        },
        {
         "name": "creations",
         "rawType": "float64",
         "type": "float"
        },
        {
         "name": "creative",
         "rawType": "float64",
         "type": "float"
        },
        {
         "name": "culinary",
         "rawType": "float64",
         "type": "float"
        },
        {
         "name": "culture",
         "rawType": "float64",
         "type": "float"
        },
        {
         "name": "customer",
         "rawType": "float64",
         "type": "float"
        },
        {
         "name": "customers",
         "rawType": "float64",
         "type": "float"
        },
        {
         "name": "daily",
         "rawType": "float64",
         "type": "float"
        },
        {
         "name": "dance",
         "rawType": "float64",
         "type": "float"
        },
        {
         "name": "day",
         "rawType": "float64",
         "type": "float"
        },
        {
         "name": "dedication",
         "rawType": "float64",
         "type": "float"
        },
        {
         "name": "deep",
         "rawType": "float64",
         "type": "float"
        },
        {
         "name": "deeply",
         "rawType": "float64",
         "type": "float"
        },
        {
         "name": "delicious",
         "rawType": "float64",
         "type": "float"
        },
        {
         "name": "demonstrates",
         "rawType": "float64",
         "type": "float"
        },
        {
         "name": "desire",
         "rawType": "float64",
         "type": "float"
        },
        {
         "name": "despite",
         "rawType": "float64",
         "type": "float"
        },
        {
         "name": "development",
         "rawType": "float64",
         "type": "float"
        },
        {
         "name": "difference",
         "rawType": "float64",
         "type": "float"
        },
        {
         "name": "dining",
         "rawType": "float64",
         "type": "float"
        },
        {
         "name": "directly",
         "rawType": "float64",
         "type": "float"
        },
        {
         "name": "do",
         "rawType": "float64",
         "type": "float"
        },
        {
         "name": "doesn",
         "rawType": "float64",
         "type": "float"
        },
        {
         "name": "doors",
         "rawType": "float64",
         "type": "float"
        },
        {
         "name": "dreams",
         "rawType": "float64",
         "type": "float"
        },
        {
         "name": "during",
         "rawType": "float64",
         "type": "float"
        },
        {
         "name": "each",
         "rawType": "float64",
         "type": "float"
        },
        {
         "name": "eager",
         "rawType": "float64",
         "type": "float"
        },
        {
         "name": "early",
         "rawType": "float64",
         "type": "float"
        },
        {
         "name": "employment",
         "rawType": "float64",
         "type": "float"
        },
        {
         "name": "energizes",
         "rawType": "float64",
         "type": "float"
        },
        {
         "name": "ensure",
         "rawType": "float64",
         "type": "float"
        },
        {
         "name": "enthusiasm",
         "rawType": "float64",
         "type": "float"
        },
        {
         "name": "entire",
         "rawType": "float64",
         "type": "float"
        },
        {
         "name": "environment",
         "rawType": "float64",
         "type": "float"
        },
        {
         "name": "establishment",
         "rawType": "float64",
         "type": "float"
        },
        {
         "name": "ethic",
         "rawType": "float64",
         "type": "float"
        },
        {
         "name": "every",
         "rawType": "float64",
         "type": "float"
        },
        {
         "name": "everyone",
         "rawType": "float64",
         "type": "float"
        },
        {
         "name": "everything",
         "rawType": "float64",
         "type": "float"
        },
        {
         "name": "exceed",
         "rawType": "float64",
         "type": "float"
        },
        {
         "name": "excellence",
         "rawType": "float64",
         "type": "float"
        },
        {
         "name": "exceptional",
         "rawType": "float64",
         "type": "float"
        },
        {
         "name": "excite",
         "rawType": "float64",
         "type": "float"
        },
        {
         "name": "expect",
         "rawType": "float64",
         "type": "float"
        },
        {
         "name": "expectations",
         "rawType": "float64",
         "type": "float"
        },
        {
         "name": "experiences",
         "rawType": "float64",
         "type": "float"
        },
        {
         "name": "explains",
         "rawType": "float64",
         "type": "float"
        },
        {
         "name": "extends",
         "rawType": "float64",
         "type": "float"
        },
        {
         "name": "faces",
         "rawType": "float64",
         "type": "float"
        },
        {
         "name": "far",
         "rawType": "float64",
         "type": "float"
        },
        {
         "name": "fascinate",
         "rawType": "float64",
         "type": "float"
        },
        {
         "name": "fast",
         "rawType": "float64",
         "type": "float"
        },
        {
         "name": "father",
         "rawType": "float64",
         "type": "float"
        },
        {
         "name": "feel",
         "rawType": "float64",
         "type": "float"
        },
        {
         "name": "figure",
         "rawType": "float64",
         "type": "float"
        },
        {
         "name": "finds",
         "rawType": "float64",
         "type": "float"
        },
        {
         "name": "flip",
         "rawType": "float64",
         "type": "float"
        },
        {
         "name": "food",
         "rawType": "float64",
         "type": "float"
        },
        {
         "name": "for",
         "rawType": "float64",
         "type": "float"
        },
        {
         "name": "found",
         "rawType": "float64",
         "type": "float"
        },
        {
         "name": "fresh",
         "rawType": "float64",
         "type": "float"
        },
        {
         "name": "friend",
         "rawType": "float64",
         "type": "float"
        },
        {
         "name": "friendship",
         "rawType": "float64",
         "type": "float"
        },
        {
         "name": "from",
         "rawType": "float64",
         "type": "float"
        },
        {
         "name": "fry",
         "rawType": "float64",
         "type": "float"
        },
        {
         "name": "fundamental",
         "rawType": "float64",
         "type": "float"
        },
        {
         "name": "generous",
         "rawType": "float64",
         "type": "float"
        },
        {
         "name": "genuine",
         "rawType": "float64",
         "type": "float"
        },
        {
         "name": "genuinely",
         "rawType": "float64",
         "type": "float"
        },
        {
         "name": "goes",
         "rawType": "float64",
         "type": "float"
        },
        {
         "name": "going",
         "rawType": "float64",
         "type": "float"
        },
        {
         "name": "gratitude",
         "rawType": "float64",
         "type": "float"
        },
        {
         "name": "great",
         "rawType": "float64",
         "type": "float"
        },
        {
         "name": "grill",
         "rawType": "float64",
         "type": "float"
        },
        {
         "name": "grilling",
         "rawType": "float64",
         "type": "float"
        },
        {
         "name": "happiness",
         "rawType": "float64",
         "type": "float"
        },
        {
         "name": "has",
         "rawType": "float64",
         "type": "float"
        },
        {
         "name": "he",
         "rawType": "float64",
         "type": "float"
        },
        {
         "name": "heart",
         "rawType": "float64",
         "type": "float"
        },
        {
         "name": "him",
         "rawType": "float64",
         "type": "float"
        },
        {
         "name": "his",
         "rawType": "float64",
         "type": "float"
        },
        {
         "name": "honored",
         "rawType": "float64",
         "type": "float"
        },
        {
         "name": "immense",
         "rawType": "float64",
         "type": "float"
        },
        {
         "name": "impacts",
         "rawType": "float64",
         "type": "float"
        },
        {
         "name": "individual",
         "rawType": "float64",
         "type": "float"
        },
        {
         "name": "infectious",
         "rawType": "float64",
         "type": "float"
        },
        {
         "name": "ingredients",
         "rawType": "float64",
         "type": "float"
        },
        {
         "name": "innovate",
         "rawType": "float64",
         "type": "float"
        },
        {
         "name": "inspire",
         "rawType": "float64",
         "type": "float"
        },
        {
         "name": "investment",
         "rawType": "float64",
         "type": "float"
        },
        {
         "name": "is",
         "rawType": "float64",
         "type": "float"
        },
        {
         "name": "isn",
         "rawType": "float64",
         "type": "float"
        },
        {
         "name": "it",
         "rawType": "float64",
         "type": "float"
        },
        {
         "name": "job",
         "rawType": "float64",
         "type": "float"
        },
        {
         "name": "joy",
         "rawType": "float64",
         "type": "float"
        },
        {
         "name": "just",
         "rawType": "float64",
         "type": "float"
        },
        {
         "name": "kitchen",
         "rawType": "float64",
         "type": "float"
        },
        {
         "name": "knowledge",
         "rawType": "float64",
         "type": "float"
        },
        {
         "name": "krab",
         "rawType": "float64",
         "type": "float"
        },
        {
         "name": "krabby",
         "rawType": "float64",
         "type": "float"
        },
        {
         "name": "krabs",
         "rawType": "float64",
         "type": "float"
        },
        {
         "name": "krusty",
         "rawType": "float64",
         "type": "float"
        },
        {
         "name": "late",
         "rawType": "float64",
         "type": "float"
        },
        {
         "name": "legacy",
         "rawType": "float64",
         "type": "float"
        },
        {
         "name": "legendary",
         "rawType": "float64",
         "type": "float"
        },
        {
         "name": "life",
         "rawType": "float64",
         "type": "float"
        },
        {
         "name": "like",
         "rawType": "float64",
         "type": "float"
        },
        {
         "name": "lives",
         "rawType": "float64",
         "type": "float"
        },
        {
         "name": "love",
         "rawType": "float64",
         "type": "float"
        },
        {
         "name": "loves",
         "rawType": "float64",
         "type": "float"
        },
        {
         "name": "lunch",
         "rawType": "float64",
         "type": "float"
        },
        {
         "name": "maintaining",
         "rawType": "float64",
         "type": "float"
        },
        {
         "name": "make",
         "rawType": "float64",
         "type": "float"
        },
        {
         "name": "makes",
         "rawType": "float64",
         "type": "float"
        },
        {
         "name": "masterpiece",
         "rawType": "float64",
         "type": "float"
        },
        {
         "name": "mathematical",
         "rawType": "float64",
         "type": "float"
        },
        {
         "name": "meal",
         "rawType": "float64",
         "type": "float"
        },
        {
         "name": "meaningful",
         "rawType": "float64",
         "type": "float"
        },
        {
         "name": "member",
         "rawType": "float64",
         "type": "float"
        },
        {
         "name": "memorable",
         "rawType": "float64",
         "type": "float"
        },
        {
         "name": "mentor",
         "rawType": "float64",
         "type": "float"
        },
        {
         "name": "menu",
         "rawType": "float64",
         "type": "float"
        },
        {
         "name": "mere",
         "rawType": "float64",
         "type": "float"
        },
        {
         "name": "morning",
         "rawType": "float64",
         "type": "float"
        },
        {
         "name": "most",
         "rawType": "float64",
         "type": "float"
        },
        {
         "name": "motivates",
         "rawType": "float64",
         "type": "float"
        },
        {
         "name": "mr",
         "rawType": "float64",
         "type": "float"
        },
        {
         "name": "natural",
         "rawType": "float64",
         "type": "float"
        },
        {
         "name": "nature",
         "rawType": "float64",
         "type": "float"
        },
        {
         "name": "neighbor",
         "rawType": "float64",
         "type": "float"
        },
        {
         "name": "often",
         "rawType": "float64",
         "type": "float"
        },
        {
         "name": "opportunities",
         "rawType": "float64",
         "type": "float"
        },
        {
         "name": "opportunity",
         "rawType": "float64",
         "type": "float"
        },
        {
         "name": "optimism",
         "rawType": "float64",
         "type": "float"
        },
        {
         "name": "or",
         "rawType": "float64",
         "type": "float"
        },
        {
         "name": "others",
         "rawType": "float64",
         "type": "float"
        },
        {
         "name": "paced",
         "rawType": "float64",
         "type": "float"
        },
        {
         "name": "passion",
         "rawType": "float64",
         "type": "float"
        },
        {
         "name": "patties",
         "rawType": "float64",
         "type": "float"
        },
        {
         "name": "patty",
         "rawType": "float64",
         "type": "float"
        },
        {
         "name": "perfect",
         "rawType": "float64",
         "type": "float"
        },
        {
         "name": "personal",
         "rawType": "float64",
         "type": "float"
        },
        {
         "name": "personalities",
         "rawType": "float64",
         "type": "float"
        },
        {
         "name": "plays",
         "rawType": "float64",
         "type": "float"
        },
        {
         "name": "position",
         "rawType": "float64",
         "type": "float"
        },
        {
         "name": "positive",
         "rawType": "float64",
         "type": "float"
        },
        {
         "name": "precision",
         "rawType": "float64",
         "type": "float"
        },
        {
         "name": "premier",
         "rawType": "float64",
         "type": "float"
        },
        {
         "name": "preparation",
         "rawType": "float64",
         "type": "float"
        },
        {
         "name": "preparing",
         "rawType": "float64",
         "type": "float"
        },
        {
         "name": "pride",
         "rawType": "float64",
         "type": "float"
        },
        {
         "name": "professional",
         "rawType": "float64",
         "type": "float"
        },
        {
         "name": "profound",
         "rawType": "float64",
         "type": "float"
        },
        {
         "name": "provides",
         "rawType": "float64",
         "type": "float"
        },
        {
         "name": "providing",
         "rawType": "float64",
         "type": "float"
        },
        {
         "name": "purpose",
         "rawType": "float64",
         "type": "float"
        },
        {
         "name": "radiates",
         "rawType": "float64",
         "type": "float"
        },
        {
         "name": "rather",
         "rawType": "float64",
         "type": "float"
        },
        {
         "name": "ready",
         "rawType": "float64",
         "type": "float"
        },
        {
         "name": "recipes",
         "rawType": "float64",
         "type": "float"
        },
        {
         "name": "reinforcing",
         "rawType": "float64",
         "type": "float"
        },
        {
         "name": "relationships",
         "rawType": "float64",
         "type": "float"
        },
        {
         "name": "represents",
         "rawType": "float64",
         "type": "float"
        },
        {
         "name": "reputation",
         "rawType": "float64",
         "type": "float"
        },
        {
         "name": "respect",
         "rawType": "float64",
         "type": "float"
        },
        {
         "name": "respecting",
         "rawType": "float64",
         "type": "float"
        },
        {
         "name": "restaurant",
         "rawType": "float64",
         "type": "float"
        },
        {
         "name": "rewarding",
         "rawType": "float64",
         "type": "float"
        },
        {
         "name": "role",
         "rawType": "float64",
         "type": "float"
        },
        {
         "name": "rooted",
         "rawType": "float64",
         "type": "float"
        },
        {
         "name": "rushes",
         "rawType": "float64",
         "type": "float"
        },
        {
         "name": "s",
         "rawType": "float64",
         "type": "float"
        },
        {
         "name": "safety",
         "rawType": "float64",
         "type": "float"
        },
        {
         "name": "satisfaction",
         "rawType": "float64",
         "type": "float"
        },
        {
         "name": "seasonal",
         "rawType": "float64",
         "type": "float"
        },
        {
         "name": "service",
         "rawType": "float64",
         "type": "float"
        },
        {
         "name": "serving",
         "rawType": "float64",
         "type": "float"
        },
        {
         "name": "shared",
         "rawType": "float64",
         "type": "float"
        },
        {
         "name": "shine",
         "rawType": "float64",
         "type": "float"
        },
        {
         "name": "simple",
         "rawType": "float64",
         "type": "float"
        },
        {
         "name": "sizzle",
         "rawType": "float64",
         "type": "float"
        },
        {
         "name": "skills",
         "rawType": "float64",
         "type": "float"
        },
        {
         "name": "smell",
         "rawType": "float64",
         "type": "float"
        },
        {
         "name": "smiles",
         "rawType": "float64",
         "type": "float"
        },
        {
         "name": "someone",
         "rawType": "float64",
         "type": "float"
        },
        {
         "name": "special",
         "rawType": "float64",
         "type": "float"
        },
        {
         "name": "specials",
         "rawType": "float64",
         "type": "float"
        },
        {
         "name": "spirit",
         "rawType": "float64",
         "type": "float"
        },
        {
         "name": "spongebob",
         "rawType": "float64",
         "type": "float"
        },
        {
         "name": "spotless",
         "rawType": "float64",
         "type": "float"
        },
        {
         "name": "squarepants",
         "rawType": "float64",
         "type": "float"
        },
        {
         "name": "squidward",
         "rawType": "float64",
         "type": "float"
        },
        {
         "name": "staying",
         "rawType": "float64",
         "type": "float"
        },
        {
         "name": "stems",
         "rawType": "float64",
         "type": "float"
        },
        {
         "name": "success",
         "rawType": "float64",
         "type": "float"
        },
        {
         "name": "t",
         "rawType": "float64",
         "type": "float"
        },
        {
         "name": "takes",
         "rawType": "float64",
         "type": "float"
        },
        {
         "name": "talents",
         "rawType": "float64",
         "type": "float"
        },
        {
         "name": "taste",
         "rawType": "float64",
         "type": "float"
        },
        {
         "name": "team",
         "rawType": "float64",
         "type": "float"
        },
        {
         "name": "technical",
         "rawType": "float64",
         "type": "float"
        },
        {
         "name": "techniques",
         "rawType": "float64",
         "type": "float"
        },
        {
         "name": "temperature",
         "rawType": "float64",
         "type": "float"
        },
        {
         "name": "their",
         "rawType": "float64",
         "type": "float"
        },
        {
         "name": "they",
         "rawType": "float64",
         "type": "float"
        },
        {
         "name": "thrives",
         "rawType": "float64",
         "type": "float"
        },
        {
         "name": "through",
         "rawType": "float64",
         "type": "float"
        },
        {
         "name": "throughout",
         "rawType": "float64",
         "type": "float"
        },
        {
         "name": "time",
         "rawType": "float64",
         "type": "float"
        },
        {
         "name": "timing",
         "rawType": "float64",
         "type": "float"
        },
        {
         "name": "to",
         "rawType": "float64",
         "type": "float"
        },
        {
         "name": "traditions",
         "rawType": "float64",
         "type": "float"
        },
        {
         "name": "true",
         "rawType": "float64",
         "type": "float"
        },
        {
         "name": "understanding",
         "rawType": "float64",
         "type": "float"
        },
        {
         "name": "understands",
         "rawType": "float64",
         "type": "float"
        },
        {
         "name": "unparalleled",
         "rawType": "float64",
         "type": "float"
        },
        {
         "name": "unwavering",
         "rawType": "float64",
         "type": "float"
        },
        {
         "name": "up",
         "rawType": "float64",
         "type": "float"
        },
        {
         "name": "values",
         "rawType": "float64",
         "type": "float"
        },
        {
         "name": "views",
         "rawType": "float64",
         "type": "float"
        },
        {
         "name": "visit",
         "rawType": "float64",
         "type": "float"
        },
        {
         "name": "vital",
         "rawType": "float64",
         "type": "float"
        },
        {
         "name": "wakes",
         "rawType": "float64",
         "type": "float"
        },
        {
         "name": "walks",
         "rawType": "float64",
         "type": "float"
        },
        {
         "name": "walls",
         "rawType": "float64",
         "type": "float"
        },
        {
         "name": "what",
         "rawType": "float64",
         "type": "float"
        },
        {
         "name": "when",
         "rawType": "float64",
         "type": "float"
        },
        {
         "name": "where",
         "rawType": "float64",
         "type": "float"
        },
        {
         "name": "while",
         "rawType": "float64",
         "type": "float"
        },
        {
         "name": "who",
         "rawType": "float64",
         "type": "float"
        },
        {
         "name": "whom",
         "rawType": "float64",
         "type": "float"
        },
        {
         "name": "why",
         "rawType": "float64",
         "type": "float"
        },
        {
         "name": "with",
         "rawType": "float64",
         "type": "float"
        },
        {
         "name": "work",
         "rawType": "float64",
         "type": "float"
        },
        {
         "name": "workday",
         "rawType": "float64",
         "type": "float"
        },
        {
         "name": "working",
         "rawType": "float64",
         "type": "float"
        },
        {
         "name": "workplace",
         "rawType": "float64",
         "type": "float"
        },
        {
         "name": "world",
         "rawType": "float64",
         "type": "float"
        },
        {
         "name": "would",
         "rawType": "float64",
         "type": "float"
        },
        {
         "name": "yet",
         "rawType": "float64",
         "type": "float"
        }
       ],
       "ref": "a6b37c4e-214d-4b58-bc6c-0a6c2cad4b0b",
       "rows": [
        [
         "Doc_1",
         "0.0",
         "0.0",
         "0.0",
         "0.4054651081081644",
         "0.0",
         "0.0",
         "0.4054651081081644",
         "0.0",
         "0.0",
         "0.4054651081081644",
         "0.0",
         "0.0",
         "0.0",
         "0.0",
         "0.4054651081081644",
         "0.0",
         "0.0",
         "0.0",
         "-0.2876820724517809",
         "0.0",
         "0.4054651081081644",
         "0.0",
         "0.0",
         "-0.2876820724517809",
         "-0.2876820724517809",
         "0.0",
         "-0.2876820724517809",
         "0.4054651081081644",
         "0.0",
         "0.4054651081081644",
         "0.0",
         "0.0",
         "0.4054651081081644",
         "0.0",
         "0.0",
         "0.0",
         "0.0",
         "0.0",
         "0.0",
         "0.4054651081081644",
         "0.4054651081081644",
         "0.0",
         "0.0",
         "0.0",
         "0.0",
         "0.0",
         "0.0",
         "0.0",
         "0.4054651081081644",
         "0.0",
         "0.0",
         "0.0",
         "0.0",
         "0.0",
         "0.0",
         "0.0",
         "0.0",
         "0.4054651081081644",
         "0.4054651081081644",
         "0.0",
         "0.4054651081081644",
         "0.0",
         "0.0",
         "0.0",
         "0.0",
         "0.0",
         "0.0",
         "0.0",
         "0.0",
         "0.8109302162163288",
         "0.0",
         "0.0",
         "0.4054651081081644",
         "0.0",
         "0.0",
         "0.0",
         "0.0",
         "0.4054651081081644",
         "0.0",
         "0.0",
         "0.0",
         "0.0",
         "0.4054651081081644",
         "0.4054651081081644",
         "0.0",
         "-0.2876820724517809",
         "0.4054651081081644",
         "0.4054651081081644",
         "0.4054651081081644",
         "0.0",
         "0.0",
         "0.0",
         "0.0",
         "0.0",
         "0.0",
         "0.4054651081081644",
         "0.0",
         "0.4054651081081644",
         "0.4054651081081644",
         "0.0",
         "0.0",
         "0.0",
         "0.0",
         "0.0",
         "0.0",
         "0.0",
         "0.0",
         "0.0",
         "0.4054651081081644",
         "0.0",
         "0.0",
         "0.0",
         "0.0",
         "0.0",
         "0.0",
         "0.0",
         "0.0",
         "-0.2876820724517809",
         "-1.1507282898071236",
         "0.0",
         "0.4054651081081644",
         "0.0",
         "0.0",
         "0.0",
         "0.0",
         "0.0",
         "0.0",
         "0.0",
         "0.0",
         "0.0",
         "0.0",
         "0.0",
         "0.0",
         "0.8109302162163288",
         "0.0",
         "0.0",
         "0.0",
         "-0.5753641449035618",
         "0.0",
         "-0.2876820724517809",
         "-2.589138652066028",
         "0.0",
         "0.0",
         "0.0",
         "0.0",
         "0.0",
         "0.0",
         "0.0",
         "0.0",
         "0.0",
         "-0.8630462173553427",
         "0.4054651081081644",
         "0.8109302162163288",
         "0.0",
         "0.0",
         "0.4054651081081644",
         "0.0",
         "0.0",
         "-0.5753641449035618",
         "0.0",
         "0.0",
         "-0.5753641449035618",
         "0.4054651081081644",
         "0.0",
         "0.4054651081081644",
         "0.4054651081081644",
         "0.0",
         "0.4054651081081644",
         "0.0",
         "0.0",
         "0.0",
         "0.0",
         "0.0",
         "0.0",
         "0.4054651081081644",
         "0.0",
         "0.0",
         "0.0",
         "0.0",
         "0.0",
         "0.0",
         "0.0",
         "0.4054651081081644",
         "0.4054651081081644",
         "0.0",
         "0.0",
         "0.0",
         "0.0",
         "0.0",
         "0.0",
         "0.0",
         "0.0",
         "0.0",
         "0.0",
         "0.4054651081081644",
         "-0.2876820724517809",
         "0.0",
         "0.4054651081081644",
         "0.4054651081081644",
         "0.0",
         "0.0",
         "0.0",
         "0.0",
         "0.0",
         "0.0",
         "0.0",
         "0.0",
         "0.0",
         "0.0",
         "0.4054651081081644",
         "0.0",
         "0.0",
         "0.4054651081081644",
         "0.0",
         "0.0",
         "0.4054651081081644",
         "0.4054651081081644",
         "0.0",
         "0.4054651081081644",
         "0.4054651081081644",
         "0.0",
         "0.0",
         "0.4054651081081644",
         "0.0",
         "0.0",
         "0.0",
         "-0.2876820724517809",
         "0.0",
         "0.0",
         "0.0",
         "0.0",
         "-0.5753641449035618",
         "0.0",
         "0.0",
         "0.0",
         "0.0",
         "0.4054651081081644",
         "0.0",
         "0.4054651081081644",
         "0.4054651081081644",
         "0.4054651081081644",
         "0.0",
         "0.4054651081081644",
         "0.4054651081081644",
         "0.0",
         "0.0",
         "0.0",
         "0.0",
         "-0.8630462173553427",
         "0.4054651081081644",
         "0.4054651081081644",
         "0.0",
         "0.4054651081081644",
         "0.4054651081081644",
         "0.0",
         "0.0",
         "0.0",
         "0.0",
         "0.4054651081081644",
         "0.0",
         "0.0",
         "0.0",
         "0.0",
         "0.0",
         "0.4054651081081644",
         "0.0",
         "0.0",
         "0.4054651081081644",
         "0.0",
         "0.0",
         "-0.8630462173553427",
         "0.0",
         "0.0",
         "0.0",
         "0.0",
         "0.4054651081081644",
         "0.0",
         "0.4054651081081644",
         "0.0",
         "0.0",
         "0.0",
         "0.0",
         "0.4054651081081644",
         "0.4054651081081644",
         "0.0",
         "0.0",
         "0.4054651081081644",
         "-0.8630462173553427",
         "0.0",
         "0.0",
         "0.0",
         "0.0",
         "-0.8630462173553427",
         "-0.5753641449035618",
         "0.0",
         "0.0",
         "0.0",
         "0.0",
         "0.0",
         "0.4054651081081644"
        ],
        [
         "Doc_2",
         "0.4054651081081644",
         "0.4054651081081644",
         "0.0",
         "0.0",
         "0.4054651081081644",
         "0.0",
         "0.0",
         "0.0",
         "0.4054651081081644",
         "0.0",
         "0.0",
         "0.0",
         "0.4054651081081644",
         "0.0",
         "0.0",
         "0.0",
         "0.0",
         "0.0",
         "-0.2876820724517809",
         "0.4054651081081644",
         "0.0",
         "0.4054651081081644",
         "0.4054651081081644",
         "-0.5753641449035618",
         "-0.2876820724517809",
         "0.4054651081081644",
         "-0.2876820724517809",
         "0.0",
         "0.0",
         "0.0",
         "0.0",
         "0.4054651081081644",
         "0.0",
         "0.4054651081081644",
         "0.4054651081081644",
         "0.0",
         "0.0",
         "0.4054651081081644",
         "0.0",
         "0.0",
         "0.0",
         "0.4054651081081644",
         "0.0",
         "0.0",
         "0.4054651081081644",
         "0.4054651081081644",
         "0.4054651081081644",
         "0.0",
         "0.0",
         "0.0",
         "0.0",
         "0.4054651081081644",
         "0.4054651081081644",
         "0.0",
         "0.0",
         "0.0",
         "0.0",
         "0.0",
         "0.0",
         "0.0",
         "0.0",
         "0.0",
         "0.0",
         "0.0",
         "0.0",
         "0.0",
         "0.0",
         "0.4054651081081644",
         "0.0",
         "0.0",
         "0.0",
         "0.0",
         "0.0",
         "0.0",
         "0.0",
         "0.4054651081081644",
         "0.0",
         "0.0",
         "0.0",
         "0.0",
         "0.0",
         "0.0",
         "0.0",
         "0.0",
         "0.4054651081081644",
         "-0.5753641449035618",
         "0.0",
         "0.0",
         "0.0",
         "0.4054651081081644",
         "0.0",
         "0.0",
         "0.0",
         "0.0",
         "0.0",
         "0.0",
         "0.0",
         "0.0",
         "0.0",
         "0.4054651081081644",
         "0.4054651081081644",
         "0.4054651081081644",
         "0.0",
         "0.0",
         "0.4054651081081644",
         "0.8109302162163288",
         "0.0",
         "0.4054651081081644",
         "0.0",
         "0.0",
         "0.0",
         "0.4054651081081644",
         "0.4054651081081644",
         "0.0",
         "0.4054651081081644",
         "0.0",
         "0.0",
         "-0.2876820724517809",
         "-0.8630462173553427",
         "0.4054651081081644",
         "0.0",
         "0.4054651081081644",
         "0.0",
         "0.0",
         "0.0",
         "0.4054651081081644",
         "0.0",
         "0.0",
         "0.4054651081081644",
         "0.0",
         "0.4054651081081644",
         "0.0",
         "0.0",
         "0.0",
         "0.0",
         "0.0",
         "0.0",
         "-1.1507282898071236",
         "0.0",
         "-0.8630462173553427",
         "-1.7260924347106854",
         "0.0",
         "0.0",
         "0.0",
         "0.0",
         "0.0",
         "0.0",
         "0.0",
         "0.4054651081081644",
         "0.4054651081081644",
         "-0.2876820724517809",
         "0.0",
         "0.0",
         "0.0",
         "0.0",
         "0.0",
         "0.8109302162163288",
         "0.0",
         "-0.5753641449035618",
         "0.0",
         "0.4054651081081644",
         "-0.5753641449035618",
         "0.0",
         "0.0",
         "0.0",
         "0.0",
         "0.0",
         "0.0",
         "0.0",
         "0.0",
         "0.4054651081081644",
         "0.0",
         "0.0",
         "0.4054651081081644",
         "0.0",
         "0.0",
         "0.0",
         "0.4054651081081644",
         "0.4054651081081644",
         "0.4054651081081644",
         "0.4054651081081644",
         "0.0",
         "0.0",
         "0.0",
         "0.0",
         "0.4054651081081644",
         "0.4054651081081644",
         "0.0",
         "0.4054651081081644",
         "0.4054651081081644",
         "0.0",
         "0.0",
         "0.0",
         "0.4054651081081644",
         "0.0",
         "-0.2876820724517809",
         "0.4054651081081644",
         "0.0",
         "0.0",
         "0.0",
         "0.0",
         "0.0",
         "0.4054651081081644",
         "0.4054651081081644",
         "0.0",
         "0.0",
         "0.0",
         "0.0",
         "0.4054651081081644",
         "0.0",
         "0.0",
         "0.0",
         "0.0",
         "0.4054651081081644",
         "0.0",
         "0.0",
         "0.0",
         "0.0",
         "0.0",
         "0.0",
         "0.4054651081081644",
         "0.4054651081081644",
         "0.0",
         "0.0",
         "0.4054651081081644",
         "0.0",
         "-0.5753641449035618",
         "0.4054651081081644",
         "0.4054651081081644",
         "0.0",
         "0.4054651081081644",
         "-0.8630462173553427",
         "0.0",
         "0.0",
         "0.0",
         "0.0",
         "0.0",
         "0.4054651081081644",
         "0.0",
         "0.0",
         "0.0",
         "0.0",
         "0.0",
         "0.0",
         "0.0",
         "0.0",
         "0.0",
         "0.0",
         "-1.1507282898071236",
         "0.0",
         "0.0",
         "0.4054651081081644",
         "0.0",
         "0.0",
         "0.0",
         "0.0",
         "0.0",
         "0.0",
         "0.0",
         "0.4054651081081644",
         "0.0",
         "0.0",
         "0.0",
         "1.2163953243244932",
         "0.0",
         "0.4054651081081644",
         "0.0",
         "0.0",
         "0.0",
         "0.0",
         "-1.7260924347106854",
         "0.0",
         "0.4054651081081644",
         "0.0",
         "0.0",
         "0.0",
         "0.0",
         "0.0",
         "0.0",
         "0.4054651081081644",
         "0.4054651081081644",
         "0.4054651081081644",
         "0.0",
         "0.0",
         "0.4054651081081644",
         "0.0",
         "0.0",
         "-0.2876820724517809",
         "0.0",
         "0.0",
         "0.4054651081081644",
         "0.0",
         "-0.2876820724517809",
         "-0.2876820724517809",
         "0.4054651081081644",
         "0.4054651081081644",
         "0.0",
         "0.4054651081081644",
         "0.0",
         "0.0"
        ],
        [
         "Doc_3",
         "0.0",
         "0.0",
         "0.4054651081081644",
         "0.0",
         "0.0",
         "0.4054651081081644",
         "0.0",
         "0.4054651081081644",
         "0.0",
         "0.0",
         "0.4054651081081644",
         "0.8109302162163288",
         "0.0",
         "0.0",
         "0.0",
         "0.4054651081081644",
         "0.0",
         "0.4054651081081644",
         "-0.5753641449035618",
         "0.0",
         "0.0",
         "0.0",
         "0.0",
         "-0.2876820724517809",
         "-0.2876820724517809",
         "0.0",
         "-0.2876820724517809",
         "0.0",
         "0.4054651081081644",
         "0.0",
         "0.4054651081081644",
         "0.0",
         "0.0",
         "0.0",
         "0.0",
         "0.4054651081081644",
         "0.0",
         "0.0",
         "0.0",
         "0.0",
         "0.0",
         "0.0",
         "0.4054651081081644",
         "0.4054651081081644",
         "0.0",
         "0.0",
         "0.0",
         "0.4054651081081644",
         "0.0",
         "0.0",
         "0.4054651081081644",
         "0.0",
         "0.0",
         "0.4054651081081644",
         "0.0",
         "0.0",
         "0.4054651081081644",
         "0.0",
         "0.0",
         "0.0",
         "0.0",
         "0.4054651081081644",
         "0.0",
         "0.4054651081081644",
         "0.0",
         "0.0",
         "0.0",
         "0.0",
         "0.0",
         "0.0",
         "0.0",
         "0.4054651081081644",
         "0.0",
         "0.4054651081081644",
         "0.4054651081081644",
         "0.0",
         "0.4054651081081644",
         "0.0",
         "0.0",
         "0.4054651081081644",
         "0.4054651081081644",
         "0.4054651081081644",
         "0.0",
         "0.0",
         "0.0",
         "-0.8630462173553427",
         "0.0",
         "0.0",
         "0.0",
         "0.0",
         "0.0",
         "0.0",
         "0.4054651081081644",
         "0.0",
         "0.4054651081081644",
         "0.0",
         "0.0",
         "0.0",
         "0.0",
         "0.0",
         "0.0",
         "0.0",
         "0.4054651081081644",
         "0.4054651081081644",
         "0.0",
         "0.0",
         "0.4054651081081644",
         "0.0",
         "0.0",
         "0.4054651081081644",
         "0.4054651081081644",
         "0.0",
         "0.0",
         "0.0",
         "0.0",
         "0.0",
         "0.0",
         "-0.8630462173553427",
         "-0.8630462173553427",
         "0.0",
         "0.0",
         "0.0",
         "0.0",
         "0.0",
         "0.0",
         "0.0",
         "0.4054651081081644",
         "0.0",
         "0.0",
         "0.0",
         "0.0",
         "0.4054651081081644",
         "0.4054651081081644",
         "0.0",
         "0.4054651081081644",
         "0.0",
         "0.0",
         "-0.5753641449035618",
         "0.4054651081081644",
         "-0.8630462173553427",
         "-2.301456579614247",
         "0.4054651081081644",
         "0.4054651081081644",
         "0.4054651081081644",
         "0.4054651081081644",
         "0.0",
         "0.0",
         "0.4054651081081644",
         "0.0",
         "0.0",
         "-0.2876820724517809",
         "0.0",
         "0.0",
         "0.8109302162163288",
         "0.0",
         "0.0",
         "0.0",
         "0.4054651081081644",
         "-0.8630462173553427",
         "0.0",
         "0.0",
         "-0.8630462173553427",
         "0.0",
         "0.4054651081081644",
         "0.0",
         "0.0",
         "0.8109302162163288",
         "0.0",
         "0.0",
         "0.4054651081081644",
         "0.0",
         "0.4054651081081644",
         "0.0",
         "0.0",
         "0.0",
         "0.4054651081081644",
         "0.4054651081081644",
         "0.0",
         "0.0",
         "0.0",
         "0.0",
         "0.4054651081081644",
         "0.0",
         "0.0",
         "0.8109302162163288",
         "0.0",
         "0.0",
         "0.4054651081081644",
         "0.0",
         "0.0",
         "0.0",
         "0.0",
         "0.4054651081081644",
         "0.0",
         "0.0",
         "-0.2876820724517809",
         "0.0",
         "0.0",
         "0.0",
         "0.0",
         "0.0",
         "0.0",
         "0.0",
         "0.0",
         "0.0",
         "0.0",
         "0.0",
         "0.4054651081081644",
         "0.0",
         "0.0",
         "0.4054651081081644",
         "0.8109302162163288",
         "0.0",
         "0.0",
         "0.4054651081081644",
         "0.0",
         "0.0",
         "0.4054651081081644",
         "0.0",
         "0.0",
         "0.0",
         "0.0",
         "0.0",
         "0.4054651081081644",
         "0.0",
         "0.4054651081081644",
         "-0.2876820724517809",
         "0.0",
         "0.0",
         "0.4054651081081644",
         "0.0",
         "-1.4384103622589044",
         "0.4054651081081644",
         "0.0",
         "0.4054651081081644",
         "0.0",
         "0.0",
         "0.0",
         "0.0",
         "0.0",
         "0.0",
         "0.4054651081081644",
         "0.0",
         "0.0",
         "0.8109302162163288",
         "0.4054651081081644",
         "0.4054651081081644",
         "0.4054651081081644",
         "-0.8630462173553427",
         "0.0",
         "0.0",
         "0.0",
         "0.0",
         "0.0",
         "0.0",
         "0.0",
         "0.4054651081081644",
         "0.0",
         "0.0",
         "0.0",
         "0.4054651081081644",
         "0.4054651081081644",
         "0.4054651081081644",
         "0.0",
         "0.0",
         "0.0",
         "0.0",
         "0.0",
         "0.4054651081081644",
         "0.4054651081081644",
         "-1.7260924347106854",
         "0.4054651081081644",
         "0.0",
         "0.4054651081081644",
         "0.4054651081081644",
         "0.0",
         "0.0",
         "0.0",
         "0.4054651081081644",
         "0.0",
         "0.0",
         "0.0",
         "0.0",
         "0.0",
         "0.0",
         "0.8109302162163288",
         "0.0",
         "-0.2876820724517809",
         "0.4054651081081644",
         "0.0",
         "0.0",
         "0.0",
         "-1.1507282898071236",
         "-0.5753641449035618",
         "0.0",
         "0.0",
         "0.0",
         "0.0",
         "0.4054651081081644",
         "0.0"
        ]
       ],
       "shape": {
        "columns": 300,
        "rows": 3
       }
      },
      "text/html": [
       "<div>\n",
       "<style scoped>\n",
       "    .dataframe tbody tr th:only-of-type {\n",
       "        vertical-align: middle;\n",
       "    }\n",
       "\n",
       "    .dataframe tbody tr th {\n",
       "        vertical-align: top;\n",
       "    }\n",
       "\n",
       "    .dataframe thead th {\n",
       "        text-align: right;\n",
       "    }\n",
       "</style>\n",
       "<table border=\"1\" class=\"dataframe\">\n",
       "  <thead>\n",
       "    <tr style=\"text-align: right;\">\n",
       "      <th></th>\n",
       "      <th>about</th>\n",
       "      <th>above</th>\n",
       "      <th>achieving</th>\n",
       "      <th>act</th>\n",
       "      <th>admiration</th>\n",
       "      <th>alignment</th>\n",
       "      <th>alive</th>\n",
       "      <th>allows</th>\n",
       "      <th>alongside</th>\n",
       "      <th>another</th>\n",
       "      <th>...</th>\n",
       "      <th>whom</th>\n",
       "      <th>why</th>\n",
       "      <th>with</th>\n",
       "      <th>work</th>\n",
       "      <th>workday</th>\n",
       "      <th>working</th>\n",
       "      <th>workplace</th>\n",
       "      <th>world</th>\n",
       "      <th>would</th>\n",
       "      <th>yet</th>\n",
       "    </tr>\n",
       "  </thead>\n",
       "  <tbody>\n",
       "    <tr>\n",
       "      <th>Doc_1</th>\n",
       "      <td>0.000000</td>\n",
       "      <td>0.000000</td>\n",
       "      <td>0.000000</td>\n",
       "      <td>0.405465</td>\n",
       "      <td>0.000000</td>\n",
       "      <td>0.000000</td>\n",
       "      <td>0.405465</td>\n",
       "      <td>0.000000</td>\n",
       "      <td>0.000000</td>\n",
       "      <td>0.405465</td>\n",
       "      <td>...</td>\n",
       "      <td>0.000000</td>\n",
       "      <td>0.0</td>\n",
       "      <td>-0.863046</td>\n",
       "      <td>-0.575364</td>\n",
       "      <td>0.000000</td>\n",
       "      <td>0.000000</td>\n",
       "      <td>0.0</td>\n",
       "      <td>0.000000</td>\n",
       "      <td>0.000000</td>\n",
       "      <td>0.405465</td>\n",
       "    </tr>\n",
       "    <tr>\n",
       "      <th>Doc_2</th>\n",
       "      <td>0.405465</td>\n",
       "      <td>0.405465</td>\n",
       "      <td>0.000000</td>\n",
       "      <td>0.000000</td>\n",
       "      <td>0.405465</td>\n",
       "      <td>0.000000</td>\n",
       "      <td>0.000000</td>\n",
       "      <td>0.000000</td>\n",
       "      <td>0.405465</td>\n",
       "      <td>0.000000</td>\n",
       "      <td>...</td>\n",
       "      <td>0.405465</td>\n",
       "      <td>0.0</td>\n",
       "      <td>-0.287682</td>\n",
       "      <td>-0.287682</td>\n",
       "      <td>0.405465</td>\n",
       "      <td>0.405465</td>\n",
       "      <td>0.0</td>\n",
       "      <td>0.405465</td>\n",
       "      <td>0.000000</td>\n",
       "      <td>0.000000</td>\n",
       "    </tr>\n",
       "    <tr>\n",
       "      <th>Doc_3</th>\n",
       "      <td>0.000000</td>\n",
       "      <td>0.000000</td>\n",
       "      <td>0.405465</td>\n",
       "      <td>0.000000</td>\n",
       "      <td>0.000000</td>\n",
       "      <td>0.405465</td>\n",
       "      <td>0.000000</td>\n",
       "      <td>0.405465</td>\n",
       "      <td>0.000000</td>\n",
       "      <td>0.000000</td>\n",
       "      <td>...</td>\n",
       "      <td>0.000000</td>\n",
       "      <td>0.0</td>\n",
       "      <td>-1.150728</td>\n",
       "      <td>-0.575364</td>\n",
       "      <td>0.000000</td>\n",
       "      <td>0.000000</td>\n",
       "      <td>0.0</td>\n",
       "      <td>0.000000</td>\n",
       "      <td>0.405465</td>\n",
       "      <td>0.000000</td>\n",
       "    </tr>\n",
       "  </tbody>\n",
       "</table>\n",
       "<p>3 rows × 300 columns</p>\n",
       "</div>"
      ],
      "text/plain": [
       "          about     above  achieving       act  admiration  alignment  \\\n",
       "Doc_1  0.000000  0.000000   0.000000  0.405465    0.000000   0.000000   \n",
       "Doc_2  0.405465  0.405465   0.000000  0.000000    0.405465   0.000000   \n",
       "Doc_3  0.000000  0.000000   0.405465  0.000000    0.000000   0.405465   \n",
       "\n",
       "          alive    allows  alongside   another  ...      whom  why      with  \\\n",
       "Doc_1  0.405465  0.000000   0.000000  0.405465  ...  0.000000  0.0 -0.863046   \n",
       "Doc_2  0.000000  0.000000   0.405465  0.000000  ...  0.405465  0.0 -0.287682   \n",
       "Doc_3  0.000000  0.405465   0.000000  0.000000  ...  0.000000  0.0 -1.150728   \n",
       "\n",
       "           work   workday   working  workplace     world     would       yet  \n",
       "Doc_1 -0.575364  0.000000  0.000000        0.0  0.000000  0.000000  0.405465  \n",
       "Doc_2 -0.287682  0.405465  0.405465        0.0  0.405465  0.000000  0.000000  \n",
       "Doc_3 -0.575364  0.000000  0.000000        0.0  0.000000  0.405465  0.000000  \n",
       "\n",
       "[3 rows x 300 columns]"
      ]
     },
     "execution_count": 57,
     "metadata": {},
     "output_type": "execute_result"
    }
   ],
   "source": [
    "tf_idf = TF_IDF([document1, document2, document3])\n",
    "\n",
    "print(\"Vocabulary size:\", len(tf_idf.vocabulary))\n",
    "print(\"Number of documents:\", len(tf_idf.documents))\n",
    "\n",
    "matrix = tf_idf.compute_tf_idf()\n",
    "\n",
    "matrix"
   ]
  }
 ],
 "metadata": {
  "kernelspec": {
   "display_name": "base",
   "language": "python",
   "name": "python3"
  },
  "language_info": {
   "codemirror_mode": {
    "name": "ipython",
    "version": 3
   },
   "file_extension": ".py",
   "mimetype": "text/x-python",
   "name": "python",
   "nbconvert_exporter": "python",
   "pygments_lexer": "ipython3",
   "version": "3.12.7"
  }
 },
 "nbformat": 4,
 "nbformat_minor": 5
}
