{
  "nbformat": 4,
  "nbformat_minor": 0,
  "metadata": {
    "colab": {
      "provenance": [],
      "authorship_tag": "ABX9TyMPqKE39oLkgvHwUWAfkXgB"
    },
    "kernelspec": {
      "name": "python3",
      "display_name": "Python 3"
    },
    "language_info": {
      "name": "python"
    }
  },
  "cells": [
    {
      "cell_type": "code",
      "execution_count": null,
      "metadata": {
        "colab": {
          "base_uri": "https://localhost:8080/"
        },
        "id": "DLC8J6AFcC0U",
        "outputId": "c56373ac-9f6f-427a-e3e5-9b698289e854"
      },
      "outputs": [
        {
          "output_type": "stream",
          "name": "stdout",
          "text": [
            "cyuf hitryeugf rt\n"
          ]
        }
      ],
      "source": [
        "#Convertir todo a minúsculas\n",
        "\n",
        "def two_lower(texto):\n",
        "  letras = ''\n",
        "  acentos = [193, 201, 205, 211, 218]\n",
        "  for letra in texto:\n",
        "    if (65 <= ord(letra) <= 90) or (ord(letra) in acentos):\n",
        "      letra = chr(ord(letra) + 32)\n",
        "    letras += letra\n",
        "  return letras\n",
        "\n",
        "texto = \"CyuF HitRyEugf Rt\"\n",
        "salida = two_lower(texto)\n",
        "print(salida)"
      ]
    },
    {
      "cell_type": "code",
      "source": [],
      "metadata": {
        "id": "vZoneoUdpqbI"
      },
      "execution_count": null,
      "outputs": []
    }
  ]
}